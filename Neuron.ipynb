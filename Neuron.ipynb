{
  "nbformat": 4,
  "nbformat_minor": 0,
  "metadata": {
    "colab": {
      "provenance": [],
      "include_colab_link": true
    },
    "kernelspec": {
      "name": "python3",
      "display_name": "Python 3"
    },
    "language_info": {
      "name": "python"
    }
  },
  "cells": [
    {
      "cell_type": "markdown",
      "metadata": {
        "id": "view-in-github",
        "colab_type": "text"
      },
      "source": [
        "<a href=\"https://colab.research.google.com/github/Dau2004/Inclass-activity-Create-a-Neuron/blob/main/Neuron.ipynb\" target=\"_parent\"><img src=\"https://colab.research.google.com/assets/colab-badge.svg\" alt=\"Open In Colab\"/></a>"
      ]
    },
    {
      "cell_type": "code",
      "execution_count": null,
      "metadata": {
        "id": "oa4kaS6OW7eQ"
      },
      "outputs": [],
      "source": [
        "import numpy as np\n",
        "import pandas as pd"
      ]
    },
    {
      "cell_type": "code",
      "source": [
        "import numpy as np\n",
        "\n",
        "class Neuron:\n",
        "    def __init__(self, nx):\n",
        "        if not isinstance(nx, int):\n",
        "          raise TypeError(\"nx must be an integer\")\n",
        "        if nx < 1:\n",
        "          raise ValueError(\"nx must be greater than 0\")\n",
        "        self.W = np.random.normal(size=(1, nx))\n",
        "        self.b = 0\n",
        "        self.A = 0"
      ],
      "metadata": {
        "id": "QH8JUJLiZ95o"
      },
      "execution_count": 4,
      "outputs": []
    }
  ]
}